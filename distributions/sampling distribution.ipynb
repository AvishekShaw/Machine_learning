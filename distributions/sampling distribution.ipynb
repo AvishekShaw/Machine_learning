{
 "cells": [
  {
   "cell_type": "code",
   "execution_count": 1,
   "id": "027aef42-63b7-475b-8b0f-3ad7cde56379",
   "metadata": {},
   "outputs": [
    {
     "name": "stdout",
     "output_type": "stream",
     "text": [
      "Standard deviation of the sample average: 0.00952\n"
     ]
    }
   ],
   "source": [
    "import numpy as np\n",
    "\n",
    "# Population parameters\n",
    "mu = 3          # Mean of the normal distribution\n",
    "sigma = 0.3     # Standard deviation of the normal distribution\n",
    "population_size = 1000000  # Size of the population\n",
    "sample_size = 1000         # Number of points in each sample\n",
    "num_samples = 10000        # Number of samples\n",
    "\n",
    "# Generate the population\n",
    "population = np.random.normal(mu, sigma, population_size)\n",
    "\n",
    "# Collect sample averages\n",
    "sample_averages = []\n",
    "\n",
    "for _ in range(num_samples):\n",
    "    sample = np.random.choice(population, sample_size, replace=False)\n",
    "    sample_averages.append(np.mean(sample))\n",
    "\n",
    "# Calculate the standard deviation of the sample averages\n",
    "std_sample_average = np.std(sample_averages)\n",
    "\n",
    "print(f\"Standard deviation of the sample average: {std_sample_average:.5f}\")\n"
   ]
  },
  {
   "cell_type": "code",
   "execution_count": 2,
   "id": "46bd532f-1862-4cb3-9c42-d00043adf899",
   "metadata": {},
   "outputs": [
    {
     "data": {
      "text/plain": [
       "0.009486832980505138"
      ]
     },
     "execution_count": 2,
     "metadata": {},
     "output_type": "execute_result"
    }
   ],
   "source": [
    "0.3/np.sqrt(1000)"
   ]
  },
  {
   "cell_type": "code",
   "execution_count": 3,
   "id": "1c26cfa1-58bf-424e-90c1-8084d807cfa1",
   "metadata": {},
   "outputs": [
    {
     "name": "stdout",
     "output_type": "stream",
     "text": [
      "Standard deviation of the sample average: 0.03007\n"
     ]
    }
   ],
   "source": [
    "sample_size = 100# Collect sample averages\n",
    "sample_averages = []\n",
    "\n",
    "for _ in range(num_samples):\n",
    "    sample = np.random.choice(population, sample_size, replace=False)\n",
    "    sample_averages.append(np.mean(sample))\n",
    "\n",
    "# Calculate the standard deviation of the sample averages\n",
    "std_sample_average = np.std(sample_averages)\n",
    "\n",
    "print(f\"Standard deviation of the sample average: {std_sample_average:.5f}\")\n"
   ]
  },
  {
   "cell_type": "code",
   "execution_count": null,
   "id": "2cd3d4d9-52e4-48b6-b58f-f78c4649b5f2",
   "metadata": {},
   "outputs": [],
   "source": []
  }
 ],
 "metadata": {
  "kernelspec": {
   "display_name": "Python 3 (ipykernel)",
   "language": "python",
   "name": "python3"
  },
  "language_info": {
   "codemirror_mode": {
    "name": "ipython",
    "version": 3
   },
   "file_extension": ".py",
   "mimetype": "text/x-python",
   "name": "python",
   "nbconvert_exporter": "python",
   "pygments_lexer": "ipython3",
   "version": "3.12.2"
  }
 },
 "nbformat": 4,
 "nbformat_minor": 5
}
