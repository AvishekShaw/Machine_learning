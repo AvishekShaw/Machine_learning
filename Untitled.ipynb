{
 "cells": [
  {
   "cell_type": "code",
   "execution_count": 51,
   "id": "f5f35dc4-a60d-4ba1-b7d5-f94f76ab1ed6",
   "metadata": {},
   "outputs": [],
   "source": [
    "def f1(x,y):\n",
    "    return x**2 + (y-5)**2 "
   ]
  },
  {
   "cell_type": "code",
   "execution_count": 52,
   "id": "fff54644-81b6-41de-b8ac-2f5a90f620c6",
   "metadata": {},
   "outputs": [],
   "source": [
    "def f2(x,y):\n",
    "    return 1./x + 1./y"
   ]
  },
  {
   "cell_type": "code",
   "execution_count": 53,
   "id": "683cdad9-1c95-4d46-b411-0971b44d3032",
   "metadata": {},
   "outputs": [],
   "source": [
    "import numpy as np\n",
    "x = y = np.arange(1,10,1)"
   ]
  },
  {
   "cell_type": "code",
   "execution_count": 54,
   "id": "627d2509-71d4-4de0-ab0e-68053958ec2a",
   "metadata": {},
   "outputs": [],
   "source": [
    "import torch\n",
    "f1_vals = torch.zeros(x.shape[0])\n",
    "f2_vals = torch.zeros(x.shape[0])"
   ]
  },
  {
   "cell_type": "code",
   "execution_count": 55,
   "id": "c79522d7-7ddc-4587-b1a2-30e170710982",
   "metadata": {},
   "outputs": [],
   "source": [
    "for i,(x_,y_) in enumerate(zip(x,y)):\n",
    "    f1_vals[i] = f1(x_,y_)\n",
    "    f2_vals[i] = f2(x_,y_)"
   ]
  },
  {
   "cell_type": "code",
   "execution_count": 56,
   "id": "3ef480b3-f744-48c9-918e-c6f22e9a6f3e",
   "metadata": {},
   "outputs": [
    {
     "data": {
      "text/plain": [
       "(tensor([2.0000, 1.0000, 0.6667, 0.5000, 0.4000, 0.3333, 0.2857, 0.2500, 0.2222]),\n",
       " tensor([17., 13., 13., 17., 25., 37., 53., 73., 97.]))"
      ]
     },
     "execution_count": 56,
     "metadata": {},
     "output_type": "execute_result"
    }
   ],
   "source": [
    "f2_vals,f1_vals"
   ]
  },
  {
   "cell_type": "code",
   "execution_count": 57,
   "id": "6fe47306-f69e-4846-8059-d3bcddc03768",
   "metadata": {},
   "outputs": [
    {
     "data": {
      "text/plain": [
       "<matplotlib.collections.PathCollection at 0x1299fcdd0>"
      ]
     },
     "execution_count": 57,
     "metadata": {},
     "output_type": "execute_result"
    },
    {
     "data": {
      "image/png": "[encoded data removed]",
      "text/plain": [
       "<Figure size 600x400 with 1 Axes>"
      ]
     },
     "metadata": {},
     "output_type": "display_data"
    }
   ],
   "source": [
    "import matplotlib.pyplot as plt\n",
    "fig,ax = plt.subplots(figsize=(6,4))\n",
    "ax.scatter(f1_vals,f2_vals)"
   ]
  },
  {
   "cell_type": "code",
   "execution_count": null,
   "id": "66332037-4f5b-4fc3-8812-ac2eb7565084",
   "metadata": {},
   "outputs": [],
   "source": []
  }
 ],
 "metadata": {
  "kernelspec": {
   "display_name": "Python 3 (ipykernel)",
   "language": "python",
   "name": "python3"
  },
  "language_info": {
   "codemirror_mode": {
    "name": "ipython",
    "version": 3
   },
   "file_extension": ".py",
   "mimetype": "text/x-python",
   "name": "python",
   "nbconvert_exporter": "python",
   "pygments_lexer": "ipython3",
   "version": "3.12.2"
  }
 },
 "nbformat": 4,
 "nbformat_minor": 5
}
