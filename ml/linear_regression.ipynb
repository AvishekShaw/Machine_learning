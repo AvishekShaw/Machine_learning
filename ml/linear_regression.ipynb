{
 "cells": [
  {
   "cell_type": "code",
   "execution_count": 2,
   "metadata": {},
   "outputs": [],
   "source": [
    "import numpy as np\n",
    "import pandas as pd\n",
    "import matplotlib.pyplot as plt"
   ]
  },
  {
   "cell_type": "code",
   "execution_count": 29,
   "metadata": {},
   "outputs": [],
   "source": [
    "def generate_data():\n",
    "    '''\n",
    "    generate data and write it into csv     \n",
    "    '''\n",
    "    np.random.seed(0)\n",
    "    X = 2 * np.random.rand(100, 1)\n",
    "    y = 4 + 3 * X + np.random.randn(100, 1)\n",
    "    X = X.reshape(1,-1)\n",
    "    y = y.reshape(1,-1)\n",
    "    \n",
    "    #dump numpy arrays to file\n",
    "    np.savetxt('X.csv', X, delimiter=',')\n",
    "    np.savetxt('y.csv', y, delimiter=',')\n",
    "\n",
    "generate_data()"
   ]
  },
  {
   "cell_type": "code",
   "execution_count": 49,
   "metadata": {},
   "outputs": [],
   "source": [
    "def plot_data():\n",
    "    fig,ax = plt.subplots(figsize=(6,4))\n",
    "    X = np.loadtxt('X.csv', delimiter=',')\n",
    "    y = np.loadtxt('y.csv', delimiter=',')\n",
    "    ax.plot(X, y, 'b.')\n",
    "    ax.set(xlabel='x', ylabel='y')"
   ]
  },
  {
   "cell_type": "code",
   "execution_count": 60,
   "metadata": {},
   "outputs": [],
   "source": [
    "# Class for linear regression from scratch\n",
    "class LinearRegression:\n",
    "    def __init__(self):\n",
    "        self.theta = np.random.randn(2, 1)\n",
    "    \n",
    "    def load_data(self):\n",
    "        # load data and augment X with a column of ones\n",
    "        self.X = np.loadtxt('X.csv', delimiter=',').reshape(-1,1)\n",
    "        self.input = np.insert(self.X, 0, 1, axis=1)\n",
    "        self.y = np.loadtxt('y.csv', delimiter=',').reshape(-1,1)\n",
    "\n",
    "    def fit(self):\n",
    "        self.theta = np.linalg.inv(self.input.T.dot(self.input)).dot(self.input.T).dot(self.y)\n",
    "    \n",
    "    def predict(self):\n",
    "        return self.X.dot(self.theta)\n",
    "    \n",
    "    # plot the data and best fit line\n",
    "    def plot_data(self):\n",
    "        plt.plot(self.X, self.y, 'b.')\n",
    "        plt.plot(self.X, self.predict(), 'r-')\n",
    "\n",
    "    "
   ]
  },
  {
   "cell_type": "code",
   "execution_count": 61,
   "metadata": {},
   "outputs": [
    {
     "ename": "ValueError",
     "evalue": "shapes (100,1) and (2,1) not aligned: 1 (dim 1) != 2 (dim 0)",
     "output_type": "error",
     "traceback": [
      "\u001b[0;31m---------------------------------------------------------------------------\u001b[0m",
      "\u001b[0;31mValueError\u001b[0m                                Traceback (most recent call last)",
      "Cell \u001b[0;32mIn[61], line 4\u001b[0m\n\u001b[1;32m      2\u001b[0m regressor\u001b[39m.\u001b[39mload_data()\n\u001b[1;32m      3\u001b[0m regressor\u001b[39m.\u001b[39mfit()\n\u001b[0;32m----> 4\u001b[0m regressor\u001b[39m.\u001b[39;49mplot_data()\n",
      "Cell \u001b[0;32mIn[60], line 21\u001b[0m, in \u001b[0;36mLinearRegression.plot_data\u001b[0;34m(self)\u001b[0m\n\u001b[1;32m     19\u001b[0m \u001b[39mdef\u001b[39;00m \u001b[39mplot_data\u001b[39m(\u001b[39mself\u001b[39m):\n\u001b[1;32m     20\u001b[0m     plt\u001b[39m.\u001b[39mplot(\u001b[39mself\u001b[39m\u001b[39m.\u001b[39mX, \u001b[39mself\u001b[39m\u001b[39m.\u001b[39my, \u001b[39m'\u001b[39m\u001b[39mb.\u001b[39m\u001b[39m'\u001b[39m)\n\u001b[0;32m---> 21\u001b[0m     plt\u001b[39m.\u001b[39mplot(\u001b[39mself\u001b[39m\u001b[39m.\u001b[39mX, \u001b[39mself\u001b[39;49m\u001b[39m.\u001b[39;49mpredict(), \u001b[39m'\u001b[39m\u001b[39mr-\u001b[39m\u001b[39m'\u001b[39m)\n",
      "Cell \u001b[0;32mIn[60], line 16\u001b[0m, in \u001b[0;36mLinearRegression.predict\u001b[0;34m(self)\u001b[0m\n\u001b[1;32m     15\u001b[0m \u001b[39mdef\u001b[39;00m \u001b[39mpredict\u001b[39m(\u001b[39mself\u001b[39m):\n\u001b[0;32m---> 16\u001b[0m     \u001b[39mreturn\u001b[39;00m \u001b[39mself\u001b[39;49m\u001b[39m.\u001b[39;49mX\u001b[39m.\u001b[39;49mdot(\u001b[39mself\u001b[39;49m\u001b[39m.\u001b[39;49mtheta)\n",
      "\u001b[0;31mValueError\u001b[0m: shapes (100,1) and (2,1) not aligned: 1 (dim 1) != 2 (dim 0)"
     ]
    },
    {
     "data": {
      "image/png": "[encoded data removed]",
      "text/plain": [
       "<Figure size 640x480 with 1 Axes>"
      ]
     },
     "metadata": {},
     "output_type": "display_data"
    }
   ],
   "source": [
    "regressor = LinearRegression()\n",
    "regressor.load_data()\n",
    "regressor.fit()\n",
    "regressor.plot_data()"
   ]
  },
  {
   "cell_type": "code",
   "execution_count": 55,
   "metadata": {},
   "outputs": [
    {
     "data": {
      "text/plain": [
       "array([[4.22215108],\n",
       "       [2.96846751]])"
      ]
     },
     "execution_count": 55,
     "metadata": {},
     "output_type": "execute_result"
    }
   ],
   "source": [
    "regressor.theta"
   ]
  },
  {
   "cell_type": "code",
   "execution_count": null,
   "metadata": {},
   "outputs": [],
   "source": []
  }
 ],
 "metadata": {
  "kernelspec": {
   "display_name": "ml",
   "language": "python",
   "name": "python3"
  },
  "language_info": {
   "codemirror_mode": {
    "name": "ipython",
    "version": 3
   },
   "file_extension": ".py",
   "mimetype": "text/x-python",
   "name": "python",
   "nbconvert_exporter": "python",
   "pygments_lexer": "ipython3",
   "version": "3.10.9"
  },
  "orig_nbformat": 4
 },
 "nbformat": 4,
 "nbformat_minor": 2
}
