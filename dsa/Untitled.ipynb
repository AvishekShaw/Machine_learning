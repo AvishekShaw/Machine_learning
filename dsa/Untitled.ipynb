{
 "cells": [
  {
   "cell_type": "code",
   "execution_count": 45,
   "id": "a8d8481d-b68e-4690-86e2-22420b31c23b",
   "metadata": {},
   "outputs": [
    {
     "data": {
      "text/plain": [
       "dict_items([(7, 2), (6, 2)])"
      ]
     },
     "execution_count": 45,
     "metadata": {},
     "output_type": "execute_result"
    }
   ],
   "source": [
    "from collections import Counter\n",
    "nums = [7,7,6,6]\n",
    "freq_list = Counter(nums)\n",
    "freq_list.items()"
   ]
  },
  {
   "cell_type": "code",
   "execution_count": 46,
   "id": "a6a79297-15a4-4930-9ebb-74e64e999abc",
   "metadata": {},
   "outputs": [
    {
     "data": {
      "text/plain": [
       "[[], [], [], [], []]"
      ]
     },
     "execution_count": 46,
     "metadata": {},
     "output_type": "execute_result"
    }
   ],
   "source": [
    "buckets = [[] for _ in range(len(nums)+1)]\n",
    "buckets"
   ]
  },
  {
   "cell_type": "code",
   "execution_count": 47,
   "id": "416d1c81-37e5-4c70-9215-bd846d714283",
   "metadata": {},
   "outputs": [],
   "source": [
    "for num,freq in freq_list.items():\n",
    "    buckets[freq].append(num)"
   ]
  },
  {
   "cell_type": "code",
   "execution_count": 48,
   "id": "b19c92a4-1277-4e70-b04f-38d41105f81a",
   "metadata": {},
   "outputs": [
    {
     "data": {
      "text/plain": [
       "[[], [], [7, 6], [], []]"
      ]
     },
     "execution_count": 48,
     "metadata": {},
     "output_type": "execute_result"
    }
   ],
   "source": [
    "buckets"
   ]
  },
  {
   "cell_type": "code",
   "execution_count": 49,
   "id": "03646ece-b43b-4590-9629-cd9c96562d05",
   "metadata": {},
   "outputs": [
    {
     "name": "stdout",
     "output_type": "stream",
     "text": [
      "7 [7]\n",
      "6 [7, 6]\n"
     ]
    }
   ],
   "source": [
    "results = []\n",
    "for i in range(len(buckets)-1,0,-1):\n",
    "    if buckets != []:\n",
    "        for numbers in buckets[i]:\n",
    "            results.append(numbers)\n",
    "            print(numbers,results)\n",
    "        if len(results) == 2:\n",
    "            break"
   ]
  },
  {
   "cell_type": "code",
   "execution_count": 50,
   "id": "53149d46-258b-48e3-a76b-85a07d31aa1a",
   "metadata": {},
   "outputs": [
    {
     "data": {
      "text/plain": [
       "[7, 6]"
      ]
     },
     "execution_count": 50,
     "metadata": {},
     "output_type": "execute_result"
    }
   ],
   "source": [
    "results"
   ]
  },
  {
   "cell_type": "markdown",
   "id": "ca26d4b3-38a7-43a0-8cbe-85a486b5911e",
   "metadata": {},
   "source": [
    "# Encode and Decode Strings"
   ]
  },
  {
   "cell_type": "code",
   "execution_count": 77,
   "id": "de7493ba-a076-4770-974c-c0ddd8d8c65b",
   "metadata": {},
   "outputs": [],
   "source": [
    "strs = [\"neet\",\"code\",\"oh\",\"4y#eah\"]"
   ]
  },
  {
   "cell_type": "code",
   "execution_count": 78,
   "id": "1a293d23-aad7-4a81-802a-28ac67369e73",
   "metadata": {},
   "outputs": [],
   "source": [
    "sizes, res = [], \"\"\n",
    "for s in strs:\n",
    "    sizes.append(len(s))\n",
    "for sz in sizes:\n",
    "    res += str(sz)\n",
    "    res += ','\n",
    "res += '#'\n",
    "for s in strs:\n",
    "    res += s"
   ]
  },
  {
   "cell_type": "code",
   "execution_count": 79,
   "id": "6207a16e-68e2-4a50-a6af-00a92737c363",
   "metadata": {},
   "outputs": [
    {
     "data": {
      "text/plain": [
       "'4,4,2,6,#neetcodeoh4y#eah'"
      ]
     },
     "execution_count": 79,
     "metadata": {},
     "output_type": "execute_result"
    }
   ],
   "source": [
    "res"
   ]
  },
  {
   "cell_type": "code",
   "execution_count": 84,
   "id": "03f6914b-30dc-4520-a54e-533e1fb58478",
   "metadata": {},
   "outputs": [],
   "source": [
    "sizes = res.split('#',1)[0]\n",
    "full_str = res.split('#',1)[1]"
   ]
  },
  {
   "cell_type": "code",
   "execution_count": 85,
   "id": "be06342e-6ad7-45e7-8d2f-e7cd772dcd0a",
   "metadata": {},
   "outputs": [
    {
     "data": {
      "text/plain": [
       "'neetcodeoh4y#eah'"
      ]
     },
     "execution_count": 85,
     "metadata": {},
     "output_type": "execute_result"
    }
   ],
   "source": [
    "full_str"
   ]
  },
  {
   "cell_type": "code",
   "execution_count": 68,
   "id": "3a56823c-de07-4728-9a8b-a78e16c019a7",
   "metadata": {},
   "outputs": [
    {
     "data": {
      "text/plain": [
       "['4', '4', '2', '5']"
      ]
     },
     "execution_count": 68,
     "metadata": {},
     "output_type": "execute_result"
    }
   ],
   "source": [
    "sizes = sizes.split(',')[:-1]\n",
    "sizes"
   ]
  },
  {
   "cell_type": "code",
   "execution_count": 73,
   "id": "9a671726-f7f3-4a8f-861f-0b490ea66c26",
   "metadata": {},
   "outputs": [],
   "source": [
    "results = []\n",
    "i = 0\n",
    "for size in sizes:\n",
    "    results.append(full_str[i:i+int(size)])\n",
    "    i = i+int(size)"
   ]
  },
  {
   "cell_type": "code",
   "execution_count": 76,
   "id": "b25a9dd7-9df6-43cc-9a5d-19e369d18841",
   "metadata": {},
   "outputs": [
    {
     "data": {
      "text/plain": [
       "True"
      ]
     },
     "execution_count": 76,
     "metadata": {},
     "output_type": "execute_result"
    }
   ],
   "source": [
    "results == strs"
   ]
  },
  {
   "cell_type": "code",
   "execution_count": null,
   "id": "050919bb-0bcf-4fc4-9ab9-bfe5e8e33811",
   "metadata": {},
   "outputs": [],
   "source": []
  }
 ],
 "metadata": {
  "kernelspec": {
   "display_name": "Python 3 (ipykernel)",
   "language": "python",
   "name": "python3"
  },
  "language_info": {
   "codemirror_mode": {
    "name": "ipython",
    "version": 3
   },
   "file_extension": ".py",
   "mimetype": "text/x-python",
   "name": "python",
   "nbconvert_exporter": "python",
   "pygments_lexer": "ipython3",
   "version": "3.12.2"
  }
 },
 "nbformat": 4,
 "nbformat_minor": 5
}
