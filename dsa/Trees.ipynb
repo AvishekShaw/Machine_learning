{
 "cells": [
  {
   "cell_type": "markdown",
   "id": "c691fdec",
   "metadata": {},
   "source": []
  },
  {
   "cell_type": "code",
   "execution_count": null,
   "id": "33fd3e74",
   "metadata": {},
   "outputs": [],
   "source": []
  },
  {
   "cell_type": "code",
   "execution_count": 79,
   "id": "165133a1-033e-4301-bfe9-54d79ef320ec",
   "metadata": {},
   "outputs": [],
   "source": [
    "class Node:\n",
    "    def __init__(self,data):\n",
    "        self.data = data\n",
    "        self.left = None\n",
    "        self.right = None"
   ]
  },
  {
   "cell_type": "code",
   "execution_count": 18,
   "id": "52f73553-fdd3-4122-a7dc-74ada91a5ad7",
   "metadata": {},
   "outputs": [],
   "source": [
    "node_00 = Node(5)\n",
    "node_00.left = Node(4)\n",
    "node_00.right = Node(3)\n",
    "node_00.left.left = Node(2)\n",
    "node_00.left.right = Node(1)\n",
    "node_00.right.left = Node(0)\n",
    "node_00.right.right = Node(-1)\n",
    "node_00.right.left.left = Node(-2)\n",
    "node_00.right.left.right = Node(-3)\n",
    "node_00.left.left.left = Node(-4)\n",
    "node_00.left.left.right = Node(-5)"
   ]
  },
  {
   "cell_type": "code",
   "execution_count": 19,
   "id": "2713bf13",
   "metadata": {},
   "outputs": [],
   "source": [
    "def traversal(node):\n",
    "    if (node.left == None and node.right == None):\n",
    "        return\n",
    "    else:\n",
    "        print(node.left.data)\n",
    "        print(node.right.data)\n",
    "        traversal(node.left)\n",
    "        traversal(node.right)"
   ]
  },
  {
   "cell_type": "code",
   "execution_count": 29,
   "id": "ba05d9d0",
   "metadata": {},
   "outputs": [],
   "source": [
    "class queue:\n",
    "    def __init__(self):\n",
    "        self.q = []\n",
    "    def add(self,item):\n",
    "        self.q.append(item)\n",
    "    def pop(self):\n",
    "        node = self.q[0]\n",
    "        self.q = self.q[1:]\n",
    "        return node\n",
    "    def print(self):\n",
    "        print(self.q)\n",
    "    def isempty(self):\n",
    "        if self.q == []:\n",
    "            return True\n",
    "        else:\n",
    "            return False"
   ]
  },
  {
   "cell_type": "markdown",
   "id": "29628f48",
   "metadata": {},
   "source": []
  },
  {
   "cell_type": "code",
   "execution_count": 34,
   "id": "9d8ce708",
   "metadata": {},
   "outputs": [],
   "source": [
    "def breadth_traversal(start_node):\n",
    "    q = queue()\n",
    "    q.add(start_node)\n",
    "    while not q.isempty():\n",
    "        node = q.pop()\n",
    "        print(node.data)\n",
    "        if node.left is not None:\n",
    "            q.add(node.left)\n",
    "        if node.right is not None:\n",
    "            q.add(node.right)"
   ]
  },
  {
   "cell_type": "code",
   "execution_count": 35,
   "id": "0c2307a7",
   "metadata": {},
   "outputs": [
    {
     "name": "stdout",
     "output_type": "stream",
     "text": [
      "5\n",
      "4\n",
      "3\n",
      "2\n",
      "1\n",
      "0\n",
      "-1\n",
      "-4\n",
      "-5\n",
      "-2\n",
      "-3\n"
     ]
    }
   ],
   "source": [
    "breadth_traversal(node_00)"
   ]
  },
  {
   "cell_type": "markdown",
   "id": "21f95e1a",
   "metadata": {},
   "source": [
    "# Inorder Traversal"
   ]
  },
  {
   "cell_type": "code",
   "execution_count": null,
   "id": "99bde855",
   "metadata": {},
   "outputs": [],
   "source": []
  },
  {
   "cell_type": "code",
   "execution_count": null,
   "id": "e95cd8ec",
   "metadata": {},
   "outputs": [],
   "source": []
  },
  {
   "cell_type": "code",
   "execution_count": null,
   "id": "9d966b6f",
   "metadata": {},
   "outputs": [],
   "source": [
    "\n",
    "\n",
    "\n"
   ]
  },
  {
   "cell_type": "code",
   "execution_count": null,
   "id": "121bc5ad",
   "metadata": {},
   "outputs": [],
   "source": []
  },
  {
   "cell_type": "code",
   "execution_count": 53,
   "id": "10d73467",
   "metadata": {},
   "outputs": [],
   "source": [
    "class stack():\n",
    "    def __init__(self):\n",
    "        self.stack = []\n",
    "    def add(self,item):\n",
    "        self.stack += [item]\n",
    "    def pop(self):\n",
    "        node = self.stack[-1]\n",
    "        self.stack = self.stack[:-1]\n",
    "        return node\n",
    "    def print(self):\n",
    "        print(self.stack)\n",
    "    def isempty(self):\n",
    "        if self.stack == []:\n",
    "            return True\n",
    "        else:\n",
    "            return False"
   ]
  },
  {
   "cell_type": "code",
   "execution_count": null,
   "id": "80f64718",
   "metadata": {},
   "outputs": [],
   "source": []
  },
  {
   "cell_type": "code",
   "execution_count": 55,
   "id": "f1210917",
   "metadata": {},
   "outputs": [],
   "source": [
    "def depth_traversal(start_node):\n",
    "    s = stack()\n",
    "    s.add(start_node)\n",
    "    while not s.isempty():\n",
    "        node = s.pop()\n",
    "        print(node.data)\n",
    "        if node.left is not None:\n",
    "            s.add(node.left)\n",
    "        if node.right is not None:\n",
    "            s.add(node.right)"
   ]
  },
  {
   "cell_type": "code",
   "execution_count": 56,
   "id": "0458cc13",
   "metadata": {},
   "outputs": [
    {
     "name": "stdout",
     "output_type": "stream",
     "text": [
      "5\n",
      "3\n",
      "-1\n",
      "0\n",
      "-3\n",
      "-2\n",
      "4\n",
      "1\n",
      "2\n",
      "-5\n",
      "-4\n"
     ]
    }
   ],
   "source": [
    "depth_traversal(node_00)"
   ]
  },
  {
   "cell_type": "code",
   "execution_count": null,
   "id": "b4be8d9b",
   "metadata": {},
   "outputs": [],
   "source": []
  }
 ],
 "metadata": {
  "kernelspec": {
   "display_name": "Python 3",
   "language": "python",
   "name": "python3"
  },
  "language_info": {
   "codemirror_mode": {
    "name": "ipython",
    "version": 3
   },
   "file_extension": ".py",
   "mimetype": "text/x-python",
   "name": "python",
   "nbconvert_exporter": "python",
   "pygments_lexer": "ipython3",
   "version": "3.9.6"
  }
 },
 "nbformat": 4,
 "nbformat_minor": 5
}
