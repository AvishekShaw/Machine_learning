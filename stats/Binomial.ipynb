{
 "cells": [
  {
   "cell_type": "code",
   "execution_count": 9,
   "id": "365eecab-aa7a-4a06-bae7-53f51c5cbb54",
   "metadata": {},
   "outputs": [],
   "source": [
    "from scipy.stats import (bernoulli, binom)"
   ]
  },
  {
   "cell_type": "code",
   "execution_count": 10,
   "id": "b2dd023d-c3db-4740-8e72-694232e33db0",
   "metadata": {},
   "outputs": [
    {
     "data": {
      "text/plain": [
       "\u001b[0;31mSignature:\u001b[0m       \u001b[0mbinom\u001b[0m\u001b[0;34m(\u001b[0m\u001b[0;34m*\u001b[0m\u001b[0margs\u001b[0m\u001b[0;34m,\u001b[0m \u001b[0;34m**\u001b[0m\u001b[0mkwds\u001b[0m\u001b[0;34m)\u001b[0m\u001b[0;34m\u001b[0m\u001b[0;34m\u001b[0m\u001b[0m\n",
       "\u001b[0;31mType:\u001b[0m            binom_gen\n",
       "\u001b[0;31mString form:\u001b[0m     <scipy.stats._discrete_distns.binom_gen object at 0x7ff3a5c80490>\n",
       "\u001b[0;31mFile:\u001b[0m            ~/anaconda3/lib/python3.8/site-packages/scipy/stats/_discrete_distns.py\n",
       "\u001b[0;31mDocstring:\u001b[0m      \n",
       "A binomial discrete random variable.\n",
       "\n",
       "As an instance of the `rv_discrete` class, `binom` object inherits from it\n",
       "a collection of generic methods (see below for the full list),\n",
       "and completes them with details specific for this particular distribution.\n",
       "\n",
       "Methods\n",
       "-------\n",
       "rvs(n, p, loc=0, size=1, random_state=None)\n",
       "    Random variates.\n",
       "pmf(k, n, p, loc=0)\n",
       "    Probability mass function.\n",
       "logpmf(k, n, p, loc=0)\n",
       "    Log of the probability mass function.\n",
       "cdf(k, n, p, loc=0)\n",
       "    Cumulative distribution function.\n",
       "logcdf(k, n, p, loc=0)\n",
       "    Log of the cumulative distribution function.\n",
       "sf(k, n, p, loc=0)\n",
       "    Survival function  (also defined as ``1 - cdf``, but `sf` is sometimes more accurate).\n",
       "logsf(k, n, p, loc=0)\n",
       "    Log of the survival function.\n",
       "ppf(q, n, p, loc=0)\n",
       "    Percent point function (inverse of ``cdf`` --- percentiles).\n",
       "isf(q, n, p, loc=0)\n",
       "    Inverse survival function (inverse of ``sf``).\n",
       "stats(n, p, loc=0, moments='mv')\n",
       "    Mean('m'), variance('v'), skew('s'), and/or kurtosis('k').\n",
       "entropy(n, p, loc=0)\n",
       "    (Differential) entropy of the RV.\n",
       "expect(func, args=(n, p), loc=0, lb=None, ub=None, conditional=False)\n",
       "    Expected value of a function (of one argument) with respect to the distribution.\n",
       "median(n, p, loc=0)\n",
       "    Median of the distribution.\n",
       "mean(n, p, loc=0)\n",
       "    Mean of the distribution.\n",
       "var(n, p, loc=0)\n",
       "    Variance of the distribution.\n",
       "std(n, p, loc=0)\n",
       "    Standard deviation of the distribution.\n",
       "interval(alpha, n, p, loc=0)\n",
       "    Endpoints of the range that contains fraction alpha [0, 1] of the\n",
       "    distribution\n",
       "\n",
       "Notes\n",
       "-----\n",
       "The probability mass function for `binom` is:\n",
       "\n",
       ".. math::\n",
       "\n",
       "   f(k) = \\binom{n}{k} p^k (1-p)^{n-k}\n",
       "\n",
       "for :math:`k \\in \\{0, 1, \\dots, n\\}`, :math:`0 \\leq p \\leq 1`\n",
       "\n",
       "`binom` takes :math:`n` and :math:`p` as shape parameters,\n",
       "where :math:`p` is the probability of a single success\n",
       "and :math:`1-p` is the probability of a single failure.\n",
       "\n",
       "The probability mass function above is defined in the \"standardized\" form.\n",
       "To shift distribution use the ``loc`` parameter.\n",
       "Specifically, ``binom.pmf(k, n, p, loc)`` is identically\n",
       "equivalent to ``binom.pmf(k - loc, n, p)``.\n",
       "\n",
       "Examples\n",
       "--------\n",
       ">>> from scipy.stats import binom\n",
       ">>> import matplotlib.pyplot as plt\n",
       ">>> fig, ax = plt.subplots(1, 1)\n",
       "\n",
       "Calculate the first four moments:\n",
       "\n",
       ">>> n, p = 5, 0.4\n",
       ">>> mean, var, skew, kurt = binom.stats(n, p, moments='mvsk')\n",
       "\n",
       "Display the probability mass function (``pmf``):\n",
       "\n",
       ">>> x = np.arange(binom.ppf(0.01, n, p),\n",
       "...               binom.ppf(0.99, n, p))\n",
       ">>> ax.plot(x, binom.pmf(x, n, p), 'bo', ms=8, label='binom pmf')\n",
       ">>> ax.vlines(x, 0, binom.pmf(x, n, p), colors='b', lw=5, alpha=0.5)\n",
       "\n",
       "Alternatively, the distribution object can be called (as a function)\n",
       "to fix the shape and location. This returns a \"frozen\" RV object holding\n",
       "the given parameters fixed.\n",
       "\n",
       "Freeze the distribution and display the frozen ``pmf``:\n",
       "\n",
       ">>> rv = binom(n, p)\n",
       ">>> ax.vlines(x, 0, rv.pmf(x), colors='k', linestyles='-', lw=1,\n",
       "...         label='frozen pmf')\n",
       ">>> ax.legend(loc='best', frameon=False)\n",
       ">>> plt.show()\n",
       "\n",
       "Check accuracy of ``cdf`` and ``ppf``:\n",
       "\n",
       ">>> prob = binom.cdf(x, n, p)\n",
       ">>> np.allclose(x, binom.ppf(prob, n, p))\n",
       "True\n",
       "\n",
       "Generate random numbers:\n",
       "\n",
       ">>> r = binom.rvs(n, p, size=1000)\n",
       "\n",
       "See Also\n",
       "--------\n",
       "hypergeom, nbinom, nhypergeom\n",
       "\u001b[0;31mClass docstring:\u001b[0m\n",
       "A binomial discrete random variable.\n",
       "\n",
       "%(before_notes)s\n",
       "\n",
       "Notes\n",
       "-----\n",
       "The probability mass function for `binom` is:\n",
       "\n",
       ".. math::\n",
       "\n",
       "   f(k) = \\binom{n}{k} p^k (1-p)^{n-k}\n",
       "\n",
       "for :math:`k \\in \\{0, 1, \\dots, n\\}`, :math:`0 \\leq p \\leq 1`\n",
       "\n",
       "`binom` takes :math:`n` and :math:`p` as shape parameters,\n",
       "where :math:`p` is the probability of a single success\n",
       "and :math:`1-p` is the probability of a single failure.\n",
       "\n",
       "%(after_notes)s\n",
       "\n",
       "%(example)s\n",
       "\n",
       "See Also\n",
       "--------\n",
       "hypergeom, nbinom, nhypergeom\n",
       "\u001b[0;31mCall docstring:\u001b[0m \n",
       "Freeze the distribution for the given arguments.\n",
       "\n",
       "Parameters\n",
       "----------\n",
       "arg1, arg2, arg3,... : array_like\n",
       "    The shape parameter(s) for the distribution.  Should include all\n",
       "    the non-optional arguments, may include ``loc`` and ``scale``.\n",
       "\n",
       "Returns\n",
       "-------\n",
       "rv_frozen : rv_frozen instance\n",
       "    The frozen distribution."
      ]
     },
     "metadata": {},
     "output_type": "display_data"
    }
   ],
   "source": [
    "?binom"
   ]
  },
  {
   "cell_type": "code",
   "execution_count": 33,
   "id": "7ca37df4-c8b7-4d68-af14-908dd9fe271c",
   "metadata": {},
   "outputs": [],
   "source": [
    "a = binom.rvs(n=3000,p=0.4,size=100)"
   ]
  },
  {
   "cell_type": "code",
   "execution_count": 37,
   "id": "4e43b494-da22-47a1-955b-579c36dad58a",
   "metadata": {},
   "outputs": [
    {
     "data": {
      "text/plain": [
       "1200.0"
      ]
     },
     "execution_count": 37,
     "metadata": {},
     "output_type": "execute_result"
    }
   ],
   "source": [
    "binom.mean(n=3000,p=0.4)"
   ]
  },
  {
   "cell_type": "code",
   "execution_count": 34,
   "id": "228b8685-2454-48a9-814b-1e6a2e03a09a",
   "metadata": {},
   "outputs": [
    {
     "data": {
      "text/plain": [
       "(array([ 3.,  5., 10., 17., 11., 30., 12.,  4.,  4.,  4.]),\n",
       " array([1141. , 1152.8, 1164.6, 1176.4, 1188.2, 1200. , 1211.8, 1223.6,\n",
       "        1235.4, 1247.2, 1259. ]),\n",
       " <BarContainer object of 10 artists>)"
      ]
     },
     "execution_count": 34,
     "metadata": {},
     "output_type": "execute_result"
    },
    {
     "data": {
      "image/png": "[encoded data removed]",
      "text/plain": [
       "<Figure size 640x480 with 1 Axes>"
      ]
     },
     "metadata": {},
     "output_type": "display_data"
    }
   ],
   "source": [
    "import matplotlib.pyplot as plt\n",
    "plt.hist(a)"
   ]
  },
  {
   "cell_type": "code",
   "execution_count": 43,
   "id": "bf59cebf-2774-4bb3-b4f0-881cbd350d66",
   "metadata": {},
   "outputs": [
    {
     "data": {
      "text/plain": [
       "2.469799770136213e-24"
      ]
     },
     "execution_count": 43,
     "metadata": {},
     "output_type": "execute_result"
    }
   ],
   "source": [
    "binom.pmf(k = 40,n=300,p=0.4)"
   ]
  },
  {
   "cell_type": "code",
   "execution_count": null,
   "id": "20b51855-7def-4780-bfe9-36610c5387a9",
   "metadata": {},
   "outputs": [],
   "source": []
  }
 ],
 "metadata": {
  "kernelspec": {
   "display_name": "Python 3 (ipykernel)",
   "language": "python",
   "name": "python3"
  },
  "language_info": {
   "codemirror_mode": {
    "name": "ipython",
    "version": 3
   },
   "file_extension": ".py",
   "mimetype": "text/x-python",
   "name": "python",
   "nbconvert_exporter": "python",
   "pygments_lexer": "ipython3",
   "version": "3.8.5"
  }
 },
 "nbformat": 4,
 "nbformat_minor": 5
}
